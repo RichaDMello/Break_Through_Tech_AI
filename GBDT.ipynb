{
 "cells": [
  {
   "cell_type": "markdown",
   "metadata": {},
   "source": [
    "# Building Gradient Boosted Decision Trees Demo"
   ]
  },
  {
   "cell_type": "markdown",
   "metadata": {},
   "source": [
    "In this demo, will you will see how to train two gradient boosted decision trees and compare their performances. \n",
    "\n",
    "**<font color='red'>Note: Some of the code cells in this notebook may take a while to run.</font>**"
   ]
  },
  {
   "cell_type": "markdown",
   "metadata": {},
   "source": [
    "### Import Packages\n",
    "\n",
    "Before you get started, import a few packages. Run the code cell below. "
   ]
  },
  {
   "cell_type": "code",
   "execution_count": 1,
   "metadata": {},
   "outputs": [],
   "source": [
    "import pandas as pd\n",
    "import numpy as np\n",
    "import os \n",
    "import matplotlib.pyplot as plt\n",
    "import seaborn as sns"
   ]
  },
  {
   "cell_type": "markdown",
   "metadata": {},
   "source": [
    "We will also import the scikit-learn `GradientBoostingClassifier`, the `train_test_split()` function for splitting the data into training and test sets, and the functions `roc_curve` and `auc` to evaluate the model. "
   ]
  },
  {
   "cell_type": "code",
   "execution_count": 2,
   "metadata": {},
   "outputs": [],
   "source": [
    "from sklearn.ensemble import GradientBoostingClassifier\n",
    "from sklearn.model_selection import train_test_split\n",
    "from sklearn.metrics import roc_curve, auc"
   ]
  },
  {
   "cell_type": "markdown",
   "metadata": {},
   "source": [
    "## Step 1: Build Your DataFrame and Define Your ML Problem\n",
    "\n",
    "We will work with the \"cell2celltrain\" data set. This data set is already preprocessed, with the proper formatting, outliers, and missing values taken care of, and all numerical columns scaled to the [0, 1] interval. One-hot encoding has been performed on all categorical columns. Run the cell below to load the data set and save it to DataFrame `df`."
   ]
  },
  {
   "cell_type": "code",
   "execution_count": 3,
   "metadata": {},
   "outputs": [],
   "source": [
    "filename = os.path.join(os.getcwd(), \"data_GBDT\", \"cell2celltrain.csv\")\n",
    "df = pd.read_csv(filename, header=0)"
   ]
  },
  {
   "cell_type": "markdown",
   "metadata": {},
   "source": [
    "#### Define the Label\n",
    "\n",
    "This is a binary classification problem in which we will predict customer churn. The label is the `Churn` column.\n",
    "\n",
    "#### Identify Features\n",
    "\n",
    "Our features will be all of the remaining columns in the dataset."
   ]
  },
  {
   "cell_type": "markdown",
   "metadata": {},
   "source": [
    "## Step 2: Create Labeled Examples\n"
   ]
  },
  {
   "cell_type": "code",
   "execution_count": 4,
   "metadata": {},
   "outputs": [],
   "source": [
    "y = df['Churn'] \n",
    "X = df.drop(columns = 'Churn', axis=1)"
   ]
  },
  {
   "cell_type": "markdown",
   "metadata": {},
   "source": [
    "## Step 3: Create Training and Test Data Sets"
   ]
  },
  {
   "cell_type": "code",
   "execution_count": 5,
   "metadata": {},
   "outputs": [],
   "source": [
    "X_train, X_test, y_train, y_test = train_test_split(X, y, test_size=0.33, random_state=1234)"
   ]
  },
  {
   "cell_type": "markdown",
   "metadata": {},
   "source": [
    "## Step 4: Train Two Gradient Boosted Decision Tree (GBDT) Classifiers\n",
    "\n",
    "A gradient boosted decision tree can be thought of as a sequence of individual decision trees that further refines the model's output prediction at each step. The power of GBDTs is in how they learn and weigh these trees in such a way that they can approximate a wide variety of non-linear functions between inputs $X$ and outputs $Y$. \n",
    "</p>\n",
    "\n",
    "We will use the scikit-learn's `GradientBoostingClassifier`. Please refer to the online [documentation](http://scikit-learn.org/stable/modules/ensemble.html) for a brief overview of scikit-learn's ensemble methods.\n",
    "\n",
    "The code cell below trains two GBDT models, one with a max depth of 2 and the other with a max depth of 10, and uses the models to make predictions."
   ]
  },
  {
   "cell_type": "code",
   "execution_count": 6,
   "metadata": {
    "nbgrader": {
     "grade": false,
     "grade_id": "cell-rf",
     "locked": false,
     "schema_version": 1,
     "solution": true
    }
   },
   "outputs": [
    {
     "name": "stdout",
     "output_type": "stream",
     "text": [
      "Begin GBDT Implementation (this will take a few minutes)...\n",
      "End\n"
     ]
    }
   ],
   "source": [
    "from time import process_time\n",
    "print('Begin GBDT Implementation (this will take a few minutes)...')\n",
    "\n",
    "# 1. Create the GradientBoostingClassifier model object with a max depth of 2 and assign to variable 'gbdt_2_model'\n",
    "gbdt_2_model = GradientBoostingClassifier(n_estimators = 50, max_depth = 2)\n",
    "\n",
    "# 2. Fit the model to the training data \n",
    "gbdt_2_model.fit(X_train, y_train)\n",
    "\n",
    "# 3. Make predictions on the test data using the predict_proba() method and assign the result to the \n",
    "# variable 'gbdt_2_predictions' \n",
    "gbdt_2_preds = gbdt_2_model.predict_proba(X_test)\n",
    "gbdt_2_predictions = list(gbdt_2_preds[:, -1])\n",
    "\n",
    "# 4. Create the GradientBoostingClassifier model object with a max depth of 10 and assign to variable 'gbdt_10_model'\n",
    "gbdt_10_model = GradientBoostingClassifier(n_estimators = 50, max_depth = 10)\n",
    "\n",
    "# 5. Fit the model to the training data below\n",
    "gbdt_10_model.fit(X_train, y_train)\n",
    "\n",
    "# 6. Make predictions on the test data using the predict_proba() method and assign the result to the \n",
    "# variable 'gbdt_10_predictions' \n",
    "gbdt_10_preds = gbdt_10_model.predict_proba(X_test)\n",
    "gbdt_10_predictions = list(gbdt_10_preds[:, -1])\n",
    "\n",
    "print('End')"
   ]
  },
  {
   "cell_type": "markdown",
   "metadata": {},
   "source": [
    "## Step 5: Evaluate the Performance Using ROC and AUC"
   ]
  },
  {
   "cell_type": "markdown",
   "metadata": {},
   "source": [
    "We will now plot two ROC curves for the two GBDT classifiers on the same graph. The code cell below uses the `roc_curve()` function to record the true positive and false positive rates for both models. "
   ]
  },
  {
   "cell_type": "code",
   "execution_count": 7,
   "metadata": {
    "nbgrader": {
     "grade": false,
     "grade_id": "cell-roc",
     "locked": false,
     "schema_version": 1,
     "solution": true
    }
   },
   "outputs": [
    {
     "name": "stdout",
     "output_type": "stream",
     "text": [
      "Computing ROC Curve...\n",
      "End\n"
     ]
    }
   ],
   "source": [
    "print('Computing ROC Curve...')\n",
    "\n",
    "# Use roc_curve to record fpr and tpr for gbdt_2_model\n",
    "fpr_2, tpr_2, thresholds_2 = roc_curve(y_test, gbdt_2_predictions)\n",
    "\n",
    "# Use roc_curve to record fpr and tpr for gbdt_10_model\n",
    "fpr_10, tpr_10, thresholds_10 = roc_curve(y_test, gbdt_10_predictions)\n",
    "\n",
    "print('End')"
   ]
  },
  {
   "cell_type": "markdown",
   "metadata": {},
   "source": [
    "The code cell below plots the ROC curves for both models. Run the code cell and inspect the results."
   ]
  },
  {
   "cell_type": "code",
   "execution_count": 8,
   "metadata": {},
   "outputs": [
    {
     "name": "stdout",
     "output_type": "stream",
     "text": [
      "Plotting ROC Curve (this will take a few minutes)...\n"
     ]
    },
    {
     "data": {
      "image/png": "[encoded data removed]",
      "text/plain": [
       "<Figure size 640x480 with 1 Axes>"
      ]
     },
     "metadata": {},
     "output_type": "display_data"
    },
    {
     "name": "stdout",
     "output_type": "stream",
     "text": [
      "95.38529825210571\n"
     ]
    }
   ],
   "source": [
    "import time\n",
    "\n",
    "t0 = time.time()\n",
    "\n",
    "print('Plotting ROC Curve (this will take a few minutes)...')\n",
    "\n",
    "fig = plt.figure()\n",
    "ax = fig.add_subplot(111)\n",
    "\n",
    "\n",
    "sns.lineplot(x=fpr_2, y=tpr_2, marker = 'o')\n",
    "sns.lineplot(x=fpr_10, y=tpr_10, marker = 'o')\n",
    "\n",
    "plt.title(\"Receiver operating characteristic (ROC) curve\")\n",
    "plt.xlabel(\"False positive rate\")\n",
    "plt.ylabel(\"True positive rate\")\n",
    "plt.legend(['GBDT with max_depth=2', 'GBDT with max_depth=10'])\n",
    "plt.show()\n",
    "\n",
    "t1 = time.time()\n",
    "print(t1-t0)\n",
    "\n"
   ]
  },
  {
   "cell_type": "markdown",
   "metadata": {},
   "source": [
    "The code cell uses the `auc()` function to compute the areas under each of the receiver operating characteristic (ROC) curves. \n"
   ]
  },
  {
   "cell_type": "code",
   "execution_count": 9,
   "metadata": {
    "nbgrader": {
     "grade": false,
     "grade_id": "cell-auc",
     "locked": false,
     "schema_version": 1,
     "solution": true
    }
   },
   "outputs": [
    {
     "name": "stdout",
     "output_type": "stream",
     "text": [
      "AUC of the GBDT model with a max depth of 2 is 0.651\n",
      "AUC of the GBDT model with a max depth of 10 is 0.664\n"
     ]
    }
   ],
   "source": [
    "# AUC for gbdt_2_model\n",
    "auc_2 = auc(fpr_2, tpr_2)\n",
    "print(\"AUC of the GBDT model with a max depth of 2 is {:.3f}\".format(auc_2))\n",
    "\n",
    "# AUC for gbdt_10_model\n",
    "auc_10 = auc(fpr_10, tpr_10)\n",
    "print(\"AUC of the GBDT model with a max depth of 10 is {:.3f}\".format(auc_10))\n"
   ]
  },
  {
   "cell_type": "code",
   "execution_count": null,
   "metadata": {},
   "outputs": [],
   "source": []
  }
 ],
 "metadata": {
  "kernelspec": {
   "display_name": "Python 3 (ipykernel)",
   "language": "python",
   "name": "python3"
  },
  "language_info": {
   "codemirror_mode": {
    "name": "ipython",
    "version": 3
   },
   "file_extension": ".py",
   "mimetype": "text/x-python",
   "name": "python",
   "nbconvert_exporter": "python",
   "pygments_lexer": "ipython3",
   "version": "3.9.19"
  },
  "toc": {
   "base_numbering": 1,
   "nav_menu": {},
   "number_sections": false,
   "sideBar": true,
   "skip_h1_title": false,
   "title_cell": "Table of Contents",
   "title_sidebar": "Contents",
   "toc_cell": false,
   "toc_position": {},
   "toc_section_display": true,
   "toc_window_display": false
  },
  "varInspector": {
   "cols": {
    "lenName": 16,
    "lenType": 16,
    "lenVar": 40
   },
   "kernels_config": {
    "python": {
     "delete_cmd_postfix": "",
     "delete_cmd_prefix": "del ",
     "library": "var_list.py",
     "varRefreshCmd": "print(var_dic_list())"
    },
    "r": {
     "delete_cmd_postfix": ") ",
     "delete_cmd_prefix": "rm(",
     "library": "var_list.r",
     "varRefreshCmd": "cat(var_dic_list()) "
    }
   },
   "types_to_exclude": [
    "module",
    "function",
    "builtin_function_or_method",
    "instance",
    "_Feature"
   ],
   "window_display": false
  }
 },
 "nbformat": 4,
 "nbformat_minor": 4
}
